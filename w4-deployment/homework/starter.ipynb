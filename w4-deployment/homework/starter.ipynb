{
 "cells": [
  {
   "cell_type": "code",
   "execution_count": 1,
   "id": "2c51efaa",
   "metadata": {},
   "outputs": [
    {
     "name": "stdout",
     "output_type": "stream",
     "text": [
      "scikit-learn @ file:///tmp/build/80754af9/scikit-learn_1642617106979/work\n"
     ]
    }
   ],
   "source": [
    "!pip freeze | grep scikit-learn"
   ]
  },
  {
   "cell_type": "code",
   "execution_count": 1,
   "id": "0ef880a0",
   "metadata": {},
   "outputs": [],
   "source": [
    "import pickle\n",
    "import pandas as pd"
   ]
  },
  {
   "cell_type": "code",
   "execution_count": 2,
   "id": "7836ccfd",
   "metadata": {},
   "outputs": [],
   "source": [
    "with open('model.bin', 'rb') as f_in:\n",
    "    dv, lr = pickle.load(f_in)"
   ]
  },
  {
   "cell_type": "code",
   "execution_count": 3,
   "id": "41c08294",
   "metadata": {},
   "outputs": [],
   "source": [
    "categorical = ['PUlocationID', 'DOlocationID']\n",
    "\n",
    "def read_data(filename):\n",
    "    df = pd.read_parquet(filename)\n",
    "    \n",
    "    df['duration'] = df.dropOff_datetime - df.pickup_datetime\n",
    "    df['duration'] = df.duration.dt.total_seconds() / 60\n",
    "\n",
    "    df = df[(df.duration >= 1) & (df.duration <= 60)].copy()\n",
    "\n",
    "    df[categorical] = df[categorical].fillna(-1).astype('int').astype('str')\n",
    "    \n",
    "    return df"
   ]
  },
  {
   "cell_type": "code",
   "execution_count": 4,
   "id": "4854399a",
   "metadata": {},
   "outputs": [],
   "source": [
    "df = read_data('https://nyc-tlc.s3.amazonaws.com/trip+data/fhv_tripdata_2021-02.parquet')"
   ]
  },
  {
   "cell_type": "code",
   "execution_count": 5,
   "id": "669fda0a",
   "metadata": {},
   "outputs": [],
   "source": [
    "dicts = df[categorical].to_dict(orient='records')\n",
    "X_val = dv.transform(dicts)\n",
    "y_pred = lr.predict(X_val)"
   ]
  },
  {
   "cell_type": "markdown",
   "id": "67d40e32-ace2-427b-a568-ff0ccc158c57",
   "metadata": {},
   "source": [
    "## Q1 Mean predicted duration\n",
    "\n",
    "Mean predicted ride duration for FHV 2021 Feb dataset"
   ]
  },
  {
   "cell_type": "code",
   "execution_count": 6,
   "id": "57fdfd89-9e76-420d-8c55-c353fbae2f47",
   "metadata": {},
   "outputs": [
    {
     "name": "stdout",
     "output_type": "stream",
     "text": [
      "16.191691679979066\n"
     ]
    }
   ],
   "source": [
    "print(y_pred.mean())"
   ]
  },
  {
   "cell_type": "markdown",
   "id": "993976ce-5c93-4a0c-a10d-b4dd57b2fe84",
   "metadata": {},
   "source": [
    "## Q2 Preparing output\n",
    "\n",
    "Create artificial ride_id column, and include the ride_id and predictions to a dataframe.\n",
    "\n",
    "What is the size of the output parquet?"
   ]
  },
  {
   "cell_type": "code",
   "execution_count": 7,
   "id": "ac64200e-96ea-41e0-85bc-56dc3c8473a1",
   "metadata": {},
   "outputs": [],
   "source": [
    "import os"
   ]
  },
  {
   "cell_type": "code",
   "execution_count": 8,
   "id": "a539b6b3-dd6f-4785-a020-7d937915382e",
   "metadata": {},
   "outputs": [],
   "source": [
    "taxi_type = 'fhv'\n",
    "year = 2021\n",
    "month = 2\n",
    "EVAL_S3_STORE = os.getenv(key='EVAL_S3_STORE', \n",
    "                          default='s3://nyc-duration-predict-vk')\n",
    "df_result = pd.DataFrame()\n",
    "df_result['ride_id'] = f'{year:04d}/{month:02d}_' + df.index.astype('str')\n",
    "\n",
    "# df_result = df.copy()\n",
    "df_result['pred'] = y_pred\n",
    "\n",
    "\n",
    "output_file = f'{EVAL_S3_STORE}/{taxi_type}_tripdata_{year:04d}-{month:02d}.parquet'\n",
    "df_result.to_parquet(\n",
    "    output_file,\n",
    "    engine='pyarrow',\n",
    "    compression=None,\n",
    "    index=False,\n",
    ")"
   ]
  },
  {
   "cell_type": "markdown",
   "id": "478984d9-072f-41da-b4be-a9d2b558c247",
   "metadata": {},
   "source": [
    "## Q3 - Creating scoring script:\n",
    "\n",
    "```bash\n",
    "jupyter nbconvert --to script starter.ipynb\n",
    "```"
   ]
  },
  {
   "cell_type": "markdown",
   "id": "90c3763a-533a-4b82-966d-6e063d875065",
   "metadata": {},
   "source": [
    "## Q4 - Virtual env\n",
    "\n",
    "Command to create Pipfile and lock:\n",
    "\n",
    "```bash\n",
    "pipenv install scikit-learn==1.0.2 pandas s3fs pyarrow boto3 --python=3.9\n",
    "```\n",
    "\n",
    "Scikit-learn dependency hash:\n",
    "`sha256:08ef968f6b72033c16c479c966bf37ccd49b06ea91b765e1cc27afefe723920b`\n",
    "\n"
   ]
  },
  {
   "cell_type": "markdown",
   "id": "8977e189-a7f3-4389-9b7f-4547d1ff4a87",
   "metadata": {},
   "source": [
    "## Q5 - Parametrize script with year and month \n",
    "\n",
    "Use `argparse` standard library to add arguments and parametrize the script.\n",
    "\n",
    "See `starter.py`\n"
   ]
  },
  {
   "cell_type": "markdown",
   "id": "b48e7a62-91b6-49a8-9f64-c3884fe0fdc5",
   "metadata": {},
   "source": [
    "## Q6 - dockerfile\n",
    "\n",
    "```dockerfile\n",
    "FROM agrigorev/zoomcamp-model:mlops-3.9.7-slim\n",
    "# how it was built:\n",
    "# FROM python:3.9.7-slim\n",
    "\n",
    "# WORKDIR /app\n",
    "# COPY [ \"model2.bin\", \"model.bin\" ]\n",
    "RUN pip install --upgrade pip\n",
    "\n",
    "RUN pip install pipenv\n",
    "WORKDIR /app\n",
    "\n",
    "# use existing .pickle file within the image\n",
    "COPY [ \"Pipfile\", \"Pipfile.lock\", \"starter.py\", \"./\"]\n",
    "RUN pipenv install --system --deploy\n",
    "ENTRYPOINT [ \"python\", \"starter.py\", \"-y\", \"2021\", \"-m\", \"4\"]\n",
    "```"
   ]
  },
  {
   "cell_type": "code",
   "execution_count": null,
   "id": "685ffbb3-d98c-4c39-a1ab-ae9ca425fac5",
   "metadata": {},
   "outputs": [],
   "source": []
  }
 ],
 "metadata": {
  "kernelspec": {
   "display_name": "Python 3 (ipykernel)",
   "language": "python",
   "name": "python3"
  },
  "language_info": {
   "codemirror_mode": {
    "name": "ipython",
    "version": 3
   },
   "file_extension": ".py",
   "mimetype": "text/x-python",
   "name": "python",
   "nbconvert_exporter": "python",
   "pygments_lexer": "ipython3",
   "version": "3.9.12"
  },
  "vscode": {
   "interpreter": {
    "hash": "394f3d1284bcc760c8bc7e6eea62ce7967eec8f82d1c3f540f6ead99cec26d91"
   }
  }
 },
 "nbformat": 4,
 "nbformat_minor": 5
}
