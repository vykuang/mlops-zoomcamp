{
 "cells": [
  {
   "cell_type": "markdown",
   "metadata": {},
   "source": [
    "## Scenario 2: A cross-functional team with one data scientist working on an ML model\n",
    "\n",
    "\n",
    "MLflow setup:\n",
    "- tracking server: yes, local server\n",
    "- backend store: sqlite database\n",
    "- artifacts store: local filesystem\n",
    "\n",
    "The experiments can be explored locally by accessing the local tracking server.\n",
    "\n",
    "To run this example you need to launch the mlflow server locally by running the following command in your terminal:\n",
    "\n",
    "`mlflow server --backend-store-uri sqlite:///backend.db`"
   ]
  },
  {
   "cell_type": "code",
   "execution_count": 2,
   "metadata": {},
   "outputs": [],
   "source": [
    "import mlflow\n",
    "\n",
    "mlflow.set_tracking_uri(\"http://127.0.0.1:5000\")"
   ]
  },
  {
   "cell_type": "code",
   "execution_count": 3,
   "metadata": {},
   "outputs": [
    {
     "name": "stdout",
     "output_type": "stream",
     "text": [
      "tracking URI: 'http://127.0.0.1:5000'\n"
     ]
    }
   ],
   "source": [
    "print(f\"tracking URI: '{mlflow.get_tracking_uri()}'\")"
   ]
  },
  {
   "cell_type": "code",
   "execution_count": 4,
   "metadata": {},
   "outputs": [
    {
     "data": {
      "text/plain": [
       "[<Experiment: artifact_location='./mlruns/1', experiment_id='1', lifecycle_stage='active', name='nyc-taxi-experiment', tags={}>,\n",
       " <Experiment: artifact_location='./mlruns/2', experiment_id='2', lifecycle_stage='active', name='iris-experiment-1', tags={}>]"
      ]
     },
     "execution_count": 4,
     "metadata": {},
     "output_type": "execute_result"
    }
   ],
   "source": [
    "mlflow.list_experiments()"
   ]
  },
  {
   "cell_type": "code",
   "execution_count": 5,
   "metadata": {},
   "outputs": [],
   "source": [
    "IRIS_EXP_NAME = \"iris-experiment-1\""
   ]
  },
  {
   "cell_type": "code",
   "execution_count": 18,
   "metadata": {},
   "outputs": [
    {
     "data": {
      "text/plain": [
       "<Experiment: artifact_location='./mlruns/2', experiment_id='2', lifecycle_stage='active', name='iris-experiment-1', tags={}>"
      ]
     },
     "execution_count": 18,
     "metadata": {},
     "output_type": "execute_result"
    }
   ],
   "source": [
    "from sklearn.linear_model import LogisticRegression\n",
    "from sklearn.datasets import load_iris\n",
    "from sklearn.metrics import accuracy_score, log_loss\n",
    "\n",
    "mlflow.set_experiment(IRIS_EXP_NAME)\n"
   ]
  },
  {
   "cell_type": "code",
   "execution_count": 21,
   "metadata": {},
   "outputs": [],
   "source": [
    "X, y = load_iris(return_X_y=True)\n",
    "\n",
    "\n",
    "def objective(params):\n",
    "    with mlflow.start_run():\n",
    "        mlflow.set_tag('model', 'LogisticRegression')        \n",
    "        mlflow.log_params(params)\n",
    "        \n",
    "        lr = LogisticRegression(**params).fit(X, y)\n",
    "        y_pred = lr.predict(X)\n",
    "        accuracy = accuracy_score(y, y_pred)\n",
    "        mlflow.log_metric(\"accuracy\", accuracy)\n",
    "        \n",
    "        y_pred_proba = lr.predict_proba(X)\n",
    "        loss = log_loss(y, y_pred_proba)\n",
    "        mlflow.log_metric(\"log loss\", loss)\n",
    "\n",
    "        mlflow.sklearn.log_model(lr, artifact_path=\"models\")\n",
    "        # print(f\"default artifacts URI: '{mlflow.get_artifact_uri()}'\")\n",
    "    return {'loss': loss, 'status': STATUS_OK}"
   ]
  },
  {
   "cell_type": "code",
   "execution_count": 8,
   "metadata": {},
   "outputs": [],
   "source": [
    "from hyperopt import fmin, tpe, hp, STATUS_OK, Trials\n",
    "from hyperopt.pyll import scope"
   ]
  },
  {
   "cell_type": "code",
   "execution_count": 22,
   "metadata": {},
   "outputs": [
    {
     "name": "stdout",
     "output_type": "stream",
     "text": [
      "100%|█████████████████████████████████████| 20/20 [01:42<00:00,  5.10s/trial, best loss: 0.305859112389673]\n"
     ]
    }
   ],
   "source": [
    "search_space = {\n",
    "    'C': hp.loguniform('C', -3, 0),\n",
    "    'penalty': hp.choice('penalty', ['l1', 'l2']),\n",
    "    'solver': 'liblinear',\n",
    "}\n",
    "\n",
    "best_result = fmin(\n",
    "    fn=objective,\n",
    "    space=search_space,\n",
    "    algo=tpe.suggest,\n",
    "    max_evals=20,\n",
    "    trials=Trials(),\n",
    ")\n",
    "    "
   ]
  },
  {
   "cell_type": "code",
   "execution_count": 16,
   "metadata": {},
   "outputs": [
    {
     "data": {
      "text/plain": [
       "[<Experiment: artifact_location='./mlruns/1', experiment_id='1', lifecycle_stage='active', name='nyc-taxi-experiment', tags={}>,\n",
       " <Experiment: artifact_location='./mlruns/2', experiment_id='2', lifecycle_stage='active', name='iris-experiment-1', tags={}>]"
      ]
     },
     "execution_count": 16,
     "metadata": {},
     "output_type": "execute_result"
    }
   ],
   "source": [
    "mlflow.list_experiments()"
   ]
  },
  {
   "cell_type": "markdown",
   "metadata": {},
   "source": [
    "### Interacting with the model registry"
   ]
  },
  {
   "cell_type": "code",
   "execution_count": 26,
   "metadata": {},
   "outputs": [],
   "source": [
    "from mlflow.tracking import MlflowClient\n",
    "from mlflow.entities import ViewType\n",
    "\n",
    "client = MlflowClient(\"http://127.0.0.1:5000\")"
   ]
  },
  {
   "cell_type": "code",
   "execution_count": 25,
   "metadata": {},
   "outputs": [
    {
     "data": {
      "text/plain": [
       "[<RegisteredModel: creation_timestamp=1654142891212, description='', last_updated_timestamp=1654142891574, latest_versions=[<ModelVersion: creation_timestamp=1654142891574, current_stage='None', description='', last_updated_timestamp=1654142891574, name='iris-classifier', run_id='05a282bca5b8434780fd913c778b707f', run_link='', source='./mlruns/2/05a282bca5b8434780fd913c778b707f/artifacts/models', status='READY', status_message='', tags={}, user_id='', version='1'>], name='iris-classifier', tags={}>]"
      ]
     },
     "execution_count": 25,
     "metadata": {},
     "output_type": "execute_result"
    }
   ],
   "source": [
    "client.list_registered_models()"
   ]
  },
  {
   "cell_type": "code",
   "execution_count": 27,
   "metadata": {},
   "outputs": [],
   "source": [
    "def print_run_info(runs):\n",
    "    \"\"\"\n",
    "    From https://www.mlflow.org/docs/latest/python_api/mlflow.tracking.html\n",
    "    \"\"\"\n",
    "    for r in runs:\n",
    "        print(\"run_id: {}\".format(r.info.run_id))\n",
    "        print(\"lifecycle_stage: {}\".format(r.info.lifecycle_stage))\n",
    "        print(\"metrics: {}\".format(r.data.metrics))\n",
    "\n",
    "        # Exclude mlflow system tags\n",
    "        tags = {k: v for k, v in r.data.tags.items() if not k.startswith(\"mlflow.\")}\n",
    "        print(\"tags: {}\".format(tags))"
   ]
  },
  {
   "cell_type": "code",
   "execution_count": 30,
   "metadata": {},
   "outputs": [
    {
     "name": "stdout",
     "output_type": "stream",
     "text": [
      "run_id: 207577093dbc4a7a80d6d818b8116f87\n",
      "lifecycle_stage: active\n",
      "metrics: {'accuracy': 0.9666666666666667, 'log loss': 0.305859112389673}\n",
      "tags: {'model': 'LogisticRegression'}\n",
      "run_id: bb1fe444c1dc4beba04670ef575197a8\n",
      "lifecycle_stage: active\n",
      "metrics: {'accuracy': 0.9666666666666667, 'log loss': 0.3116084636110016}\n",
      "tags: {'model': 'LogisticRegression'}\n",
      "run_id: b47b94363b66484c9781db5e5d52ddeb\n",
      "lifecycle_stage: active\n",
      "metrics: {'accuracy': 0.9666666666666667}\n",
      "tags: {'model': 'LogisticRegression'}\n",
      "run_id: 6ebfdf9daef946988fb756e99dc873f3\n",
      "lifecycle_stage: active\n",
      "metrics: {'accuracy': 0.96, 'log loss': 0.32764854001932037}\n",
      "tags: {'model': 'LogisticRegression'}\n",
      "run_id: bc3df90f560f4bf2a594e2af8a0ba6ae\n",
      "lifecycle_stage: active\n",
      "metrics: {'accuracy': 0.96, 'log loss': 0.32242512006490126}\n",
      "tags: {'model': 'LogisticRegression'}\n"
     ]
    }
   ],
   "source": [
    "exps = client.get_experiment_by_name(IRIS_EXP_NAME)\n",
    "runs = client.search_runs(\n",
    "    experiment_ids=exps.experiment_id,\n",
    "    run_view_type=ViewType.ACTIVE_ONLY,\n",
    "    max_results=5,\n",
    "    order_by=['metrics.accuracy DESC']\n",
    ")\n",
    "print_run_info(runs)"
   ]
  },
  {
   "cell_type": "code",
   "execution_count": 31,
   "metadata": {},
   "outputs": [
    {
     "data": {
      "text/plain": [
       "'207577093dbc4a7a80d6d818b8116f87'"
      ]
     },
     "execution_count": 31,
     "metadata": {},
     "output_type": "execute_result"
    }
   ],
   "source": [
    "runs[0].info.run_id"
   ]
  },
  {
   "cell_type": "code",
   "execution_count": 32,
   "metadata": {},
   "outputs": [
    {
     "name": "stderr",
     "output_type": "stream",
     "text": [
      "Registered model 'iris-classifier' already exists. Creating a new version of this model...\n",
      "2022/06/02 08:34:57 INFO mlflow.tracking._model_registry.client: Waiting up to 300 seconds for model version to finish creation.                     Model name: iris-classifier, version 2\n",
      "Created version '2' of model 'iris-classifier'.\n",
      "Registered model 'iris-classifier' already exists. Creating a new version of this model...\n",
      "2022/06/02 08:34:57 INFO mlflow.tracking._model_registry.client: Waiting up to 300 seconds for model version to finish creation.                     Model name: iris-classifier, version 3\n",
      "Created version '3' of model 'iris-classifier'.\n",
      "Registered model 'iris-classifier' already exists. Creating a new version of this model...\n",
      "2022/06/02 08:34:57 INFO mlflow.tracking._model_registry.client: Waiting up to 300 seconds for model version to finish creation.                     Model name: iris-classifier, version 4\n",
      "Created version '4' of model 'iris-classifier'.\n",
      "Registered model 'iris-classifier' already exists. Creating a new version of this model...\n",
      "2022/06/02 08:34:57 INFO mlflow.tracking._model_registry.client: Waiting up to 300 seconds for model version to finish creation.                     Model name: iris-classifier, version 5\n",
      "Created version '5' of model 'iris-classifier'.\n",
      "Registered model 'iris-classifier' already exists. Creating a new version of this model...\n",
      "2022/06/02 08:34:58 INFO mlflow.tracking._model_registry.client: Waiting up to 300 seconds for model version to finish creation.                     Model name: iris-classifier, version 6\n",
      "Created version '6' of model 'iris-classifier'.\n"
     ]
    }
   ],
   "source": [
    "model_uris = [f'runs:/{run.info.run_id}/models'\n",
    "              for run in runs]\n",
    "\n",
    "for model_uri in model_uris:\n",
    "    mlflow.register_model(\n",
    "        model_uri=model_uri,\n",
    "        name='iris-classifier'\n",
    "    )"
   ]
  },
  {
   "cell_type": "code",
   "execution_count": 17,
   "metadata": {},
   "outputs": [
    {
     "name": "stderr",
     "output_type": "stream",
     "text": [
      "Successfully registered model 'iris-classifier'.\n",
      "2022/06/02 04:08:11 INFO mlflow.tracking._model_registry.client: Waiting up to 300 seconds for model version to finish creation.                     Model name: iris-classifier, version 1\n",
      "Created version '1' of model 'iris-classifier'.\n"
     ]
    },
    {
     "data": {
      "text/plain": [
       "<ModelVersion: creation_timestamp=1654142891574, current_stage='None', description='', last_updated_timestamp=1654142891574, name='iris-classifier', run_id='05a282bca5b8434780fd913c778b707f', run_link='', source='./mlruns/2/05a282bca5b8434780fd913c778b707f/artifacts/models', status='READY', status_message='', tags={}, user_id='', version='1'>"
      ]
     },
     "execution_count": 17,
     "metadata": {},
     "output_type": "execute_result"
    }
   ],
   "source": [
    "exp_list = mlflow.list_experiments()\n",
    "iris_exp_id = [entity.experiment_id \n",
    "          for entity in exp_list if entity.name == IRIS_EXP_NAME]\n",
    "\n",
    "run_id = client.list_run_infos(experiment_id=iris_exp_id[0])[0].run_id\n",
    "mlflow.register_model(\n",
    "    model_uri=f\"runs:/{run_id}/models\",\n",
    "    name='iris-classifier'\n",
    ")"
   ]
  },
  {
   "cell_type": "code",
   "execution_count": null,
   "metadata": {},
   "outputs": [],
   "source": []
  }
 ],
 "metadata": {
  "interpreter": {
   "hash": "0848c9d6c7d415ad6c477ff7ff8e98694d1a4aa96d0deee89244642e6b630036"
  },
  "kernelspec": {
   "display_name": "prefect_env",
   "language": "python",
   "name": "prefect_env"
  },
  "language_info": {
   "codemirror_mode": {
    "name": "ipython",
    "version": 3
   },
   "file_extension": ".py",
   "mimetype": "text/x-python",
   "name": "python",
   "nbconvert_exporter": "python",
   "pygments_lexer": "ipython3",
   "version": "3.10.4"
  }
 },
 "nbformat": 4,
 "nbformat_minor": 4
}
