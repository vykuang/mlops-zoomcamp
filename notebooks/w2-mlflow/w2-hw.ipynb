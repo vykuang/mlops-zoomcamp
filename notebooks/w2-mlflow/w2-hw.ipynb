{
 "cells": [
  {
   "cell_type": "markdown",
   "metadata": {},
   "source": [
    "# Week 2 - Experiment Tracking and Model Registry with MLFlow\n",
    "\n",
    "## 1. Installation"
   ]
  },
  {
   "cell_type": "code",
   "execution_count": 1,
   "metadata": {},
   "outputs": [
    {
     "name": "stdout",
     "output_type": "stream",
     "text": [
      "mlflow, version 1.26.0\n"
     ]
    }
   ],
   "source": [
    "!mlflow --version"
   ]
  },
  {
   "cell_type": "markdown",
   "metadata": {},
   "source": [
    "## 2. Download and preprocess\n",
    "\n",
    "Use green taxi trip records from 2021-01 to 2021-03"
   ]
  },
  {
   "cell_type": "code",
   "execution_count": 2,
   "metadata": {},
   "outputs": [],
   "source": [
    "# URL format: https://s3.amazonaws.com/nyc-tlc/trip+data/green_tripdata_2021-01.parquet\n",
    "# looking for 2021-01, 02, 03\n",
    "# use requests\n",
    "\n",
    "import requests\n",
    "from pathlib import Path\n",
    "\n",
    "def download_from_url(url: str, file_dir: str):\n",
    "    \"\"\"Wrapper function for requests library to stream download,\n",
    "    i.e. without needing to store entire file in memory, and allows\n",
    "    download to proceed in chunks\n",
    "\n",
    "    Args:\n",
    "    url: string\n",
    "        direct url to the file for download, e.g.\n",
    "        https://s3.amazonaws.com/nyc-tlc/trip+data/green_tripdata_2021-01.parquet\n",
    "\n",
    "    file_dir: string\n",
    "        path to the download destination directory\n",
    "    \"\"\"\n",
    "    file_dir = Path(file_dir)\n",
    "    if not file_dir:\n",
    "        Path.mkdir(file_dir)\n",
    "\n",
    "    # local_file = url.split('/')[-1].replace(\" \", \"_\")\n",
    "    # use built-in method to extract filename:\n",
    "    local_file = Path(url).name\n",
    "    local_path = Path(file_dir) / local_file\n",
    "\n",
    "    if not local_path.exists():\n",
    "        r = requests.get(url, stream=True)\n",
    "        if r.ok:\n",
    "            print('Saving to ', local_path)\n",
    "            with open(local_path, 'wb') as f:\n",
    "                for chunk in r.iter_content(chunk_size=1024*8):\n",
    "                    # if chunk:\n",
    "                    # iter_content will never return None type\n",
    "                    f.write(chunk)\n",
    "                    # f.flush()\n",
    "                    # os.fsync(f.fileno())\n",
    "        else:\n",
    "            # HTTP status 4xx/5xx\n",
    "            print(f'Download failed with code {r.status_code}\\n{r.text}')\n",
    "    else:\n",
    "        print(f'File already exists:\\n{local_path}')"
   ]
  },
  {
   "cell_type": "code",
   "execution_count": 3,
   "metadata": {},
   "outputs": [
    {
     "name": "stdout",
     "output_type": "stream",
     "text": [
      "Saving to  /home/kohada/mlops-notes/data/green_tripdata_2021-01.parquet\n",
      "Saving to  /home/kohada/mlops-notes/data/green_tripdata_2021-02.parquet\n",
      "Saving to  /home/kohada/mlops-notes/data/green_tripdata_2021-03.parquet\n"
     ]
    }
   ],
   "source": [
    "# url = 'https://s3.amazonaws.com/nyc-tlc/trip+data/green_tripdata_2021-01.parquet'\n",
    "parquet_urls = [f'https://s3.amazonaws.com/nyc-tlc/trip+data/green_tripdata_2021-{month:02}.parquet'\n",
    "                for month in range(1, 4)] \n",
    "dest_path = Path.cwd().parents[1] / 'data'\n",
    "\n",
    "for url in parquet_urls:\n",
    "    download_from_url(url, dest_path)"
   ]
  },
  {
   "cell_type": "markdown",
   "metadata": {},
   "source": [
    "### Preprocess\n",
    "\n",
    "Run `preprocess_data.py` and examine the outputs"
   ]
  },
  {
   "cell_type": "code",
   "execution_count": 4,
   "metadata": {},
   "outputs": [],
   "source": [
    "!python preprocess_data.py --raw_data_path ~/mlops-notes/data --dest_path ./output"
   ]
  },
  {
   "cell_type": "code",
   "execution_count": 5,
   "metadata": {},
   "outputs": [
    {
     "data": {
      "text/plain": [
       "[PosixPath('/home/kohada/mlops-notes/notebooks/w2-mlflow/output/dv.pkl'),\n",
       " PosixPath('/home/kohada/mlops-notes/notebooks/w2-mlflow/output/valid.pkl'),\n",
       " PosixPath('/home/kohada/mlops-notes/notebooks/w2-mlflow/output/test.pkl'),\n",
       " PosixPath('/home/kohada/mlops-notes/notebooks/w2-mlflow/output/train.pkl')]"
      ]
     },
     "execution_count": 5,
     "metadata": {},
     "output_type": "execute_result"
    }
   ],
   "source": [
    "output_path = Path.cwd() / 'output'\n",
    "list(output_path.glob('*.*'))"
   ]
  },
  {
   "cell_type": "markdown",
   "metadata": {},
   "source": [
    "## 3. Train with autolog\n",
    "\n",
    "Use random forest regressor via `train.py`. The script loads the outputs from previous step, trains model on `train.pkl`, and calculates RMSE on `valid.pkl`.\n",
    "\n",
    "Modify so that MLflow's **autolog** is enabled. Launch MLflow UI to confirm tracking"
   ]
  },
  {
   "cell_type": "code",
   "execution_count": 6,
   "metadata": {},
   "outputs": [
    {
     "name": "stderr",
     "output_type": "stream",
     "text": [
      "/home/kohada/anaconda3/envs/mlops/lib/python3.9/site-packages/xgboost/compat.py:36: FutureWarning: pandas.Int64Index is deprecated and will be removed from pandas in a future version. Use pandas.Index with the appropriate dtype instead.\n",
      "  from pandas import MultiIndex, Int64Index\n"
     ]
    }
   ],
   "source": [
    "import pandas as pd\n",
    "import xgboost as xgb\n",
    "import mlflow\n",
    "from hyperopt import fmin, tpe, hp, STATUS_OK, Trials\n",
    "from hyperopt.pyll import scope\n",
    "\n",
    "from sklearn.feature_extraction import DictVectorizer\n",
    "from sklearn.linear_model import LinearRegression\n",
    "from sklearn.linear_model import Lasso\n",
    "from sklearn.linear_model import Ridge\n",
    "\n",
    "from sklearn.metrics import mean_squared_error\n",
    "\n",
    "import pickle"
   ]
  },
  {
   "cell_type": "code",
   "execution_count": null,
   "metadata": {},
   "outputs": [],
   "source": [
    "# train.py\n",
    "import argparse\n",
    "import os\n",
    "import pickle\n",
    "import mlflow\n",
    "\n",
    "from sklearn.ensemble import RandomForestRegressor\n",
    "from sklearn.metrics import mean_squared_error\n",
    "\n",
    "def load_pickle(filename: str):\n",
    "    with open(filename, \"rb\") as f_in:\n",
    "        return pickle.load(f_in)\n",
    "\n",
    "def run(data_path):\n",
    "\n",
    "    X_train, y_train = load_pickle(os.path.join(data_path, \"train.pkl\"))\n",
    "    X_valid, y_valid = load_pickle(os.path.join(data_path, \"valid.pkl\"))\n",
    "\n",
    "    ## set mlflow here\n",
    "    mlflow.set_tracking_uri(\"sqlite:///mlflow.db\")\n",
    "    mlflow.set_experiment(\"nyc-taxi-experiment\")\n",
    "    \n",
    "    mlflow.sklearn.autolog()\n",
    "\n",
    "    with mlflow.start_run():\n",
    "        \n",
    "        rf = RandomForestRegressor(max_depth=10, random_state=0)\n",
    "        rf.fit(X_train, y_train)\n",
    "        y_pred = rf.predict(X_valid)\n",
    "\n",
    "        rmse = mean_squared_error(y_valid, y_pred, squared=False)\n",
    "\n",
    "\n",
    "if __name__ == '__main__':\n",
    "\n",
    "    parser = argparse.ArgumentParser()\n",
    "    parser.add_argument(\n",
    "        \"--data_path\",\n",
    "        default=\"./output\",\n",
    "        help=\"the location where the processed NYC taxi trip data was saved.\"\n",
    "    )\n",
    "    args = parser.parse_args()\n",
    "\n",
    "    run(args.data_path)\n"
   ]
  },
  {
   "cell_type": "code",
   "execution_count": 7,
   "metadata": {},
   "outputs": [
    {
     "name": "stdout",
     "output_type": "stream",
     "text": [
      "2022/05/27 01:02:31 WARNING mlflow.utils.autologging_utils: MLflow autologging encountered a warning: \"/home/kohada/anaconda3/envs/mlops/lib/python3.9/site-packages/_distutils_hack/__init__.py:30: UserWarning: Setuptools is replacing distutils.\"\n"
     ]
    }
   ],
   "source": [
    "!python train.py"
   ]
  },
  {
   "cell_type": "markdown",
   "metadata": {},
   "source": [
    "MLflow autolog recorded 17 parameters:\n",
    "\n",
    "* bootstrap\n",
    "* ccp_alpha\n",
    "* ...\n",
    "* warm_start"
   ]
  },
  {
   "cell_type": "markdown",
   "metadata": {},
   "source": [
    "## 4. Launch tracking server locally\n",
    "\n",
    "Having tracking server allows access to model registry, and management of the entire ML model lifecycle.\n",
    "\n",
    "If our tracking server relies on SQL backend (specified via `--backend-store-uri`), we must also specify `--default-artifact-root` URI if we want to store artifacts. Defaults to `./mlruns`"
   ]
  },
  {
   "cell_type": "code",
   "execution_count": 10,
   "metadata": {},
   "outputs": [
    {
     "name": "stdout",
     "output_type": "stream",
     "text": [
      "[2022-05-27 01:09:26 +0800] [9867] [INFO] Starting gunicorn 20.1.0\n",
      "[2022-05-27 01:09:26 +0800] [9867] [INFO] Listening at: http://127.0.0.1:5001 (9867)\n",
      "[2022-05-27 01:09:26 +0800] [9867] [INFO] Using worker: sync\n",
      "[2022-05-27 01:09:26 +0800] [9868] [INFO] Booting worker with pid: 9868\n",
      "[2022-05-27 01:09:26 +0800] [9869] [INFO] Booting worker with pid: 9869\n",
      "[2022-05-27 01:09:26 +0800] [9870] [INFO] Booting worker with pid: 9870\n",
      "[2022-05-27 01:09:26 +0800] [9871] [INFO] Booting worker with pid: 9871\n",
      "^C\n",
      "[2022-05-27 01:11:03 +0800] [9867] [INFO] Handling signal: int\n",
      "[2022-05-27 01:11:03 +0800] [9869] [INFO] Worker exiting (pid: 9869)\n",
      "[2022-05-27 01:11:03 +0800] [9868] [INFO] Worker exiting (pid: 9868)\n",
      "[2022-05-27 01:11:03 +0800] [9870] [INFO] Worker exiting (pid: 9870)\n",
      "[2022-05-27 01:11:03 +0800] [9871] [INFO] Worker exiting (pid: 9871)\n"
     ]
    }
   ],
   "source": [
    "# !mlflow server \\\n",
    "#     --backend-store-uri sqlite:///mlflow.db \\\n",
    "#     --default-artifact-root ./mlruns"
   ]
  },
  {
   "cell_type": "markdown",
   "metadata": {},
   "source": [
    "## 5. Tune hyperparameter\n",
    "\n",
    "Using `hyperopt` and the `hpo.py` script, tune the hyperparams of our random forest regressor.\n",
    "\n",
    "Modify `hpo.py` to log validation RMSE is logged to MLflow.\n",
    "\n",
    "Track experiment named `random-forest-hperopt`.\n",
    "\n",
    "Log only:\n",
    "\n",
    "* list of hypeparams passed to `objective` func\n",
    "* RMSE of validation (2021-02)\n",
    "\n",
    "What's the best validation RMSE?"
   ]
  },
  {
   "cell_type": "markdown",
   "metadata": {},
   "source": [
    "Modified `objective` function below:\n",
    "```python\n",
    "    def objective(params):\n",
    "\n",
    "        with mlflow.start_run():\n",
    "            mlflow.set_tag('model', 'random-forest-regressor')\n",
    "            # log only the hyperparameters passed\n",
    "            mlflow.log_params(params)\n",
    "\n",
    "            rf = RandomForestRegressor(**params)\n",
    "            rf.fit(X_train, y_train)\n",
    "            y_pred = rf.predict(X_valid)\n",
    "            rmse = mean_squared_error(y_valid, y_pred, squared=False)\n",
    "\n",
    "            mlflow.log_metric(\"rmse\", rmse)\n",
    "```\n",
    "Lowest RMSE: 6.628"
   ]
  },
  {
   "cell_type": "markdown",
   "metadata": {},
   "source": [
    "## 6. Promote best model to model registry\n",
    "\n",
    "`register_model.py` is a script which checks previous step's results and selects top 5 runs to test using the 2021-03 dataset. Results will be saved to a new experiment - `random-forest-best-models`.\n",
    "\n",
    "Modify `register_model.py` so it selects the lowest RMSE.\n",
    "\n",
    "* use `search_runs` from MLflowClient\n",
    "* `mlflow.register_model` to register\n",
    "    * pass model_uri: `\"runs:/<RUN_ID>/model\"` and name of model.\n",
    "\n",
    "What is test RMSE of best model?"
   ]
  },
  {
   "cell_type": "code",
   "execution_count": 2,
   "metadata": {},
   "outputs": [],
   "source": [
    "import mlflow\n",
    "\n",
    "from mlflow.tracking import MlflowClient\n",
    "from mlflow.entities import ViewType\n",
    "\n",
    "mlflow.set_tracking_uri(\"http://127.0.0.1:5000\")"
   ]
  },
  {
   "cell_type": "code",
   "execution_count": 3,
   "metadata": {},
   "outputs": [],
   "source": [
    "def print_run_info(runs):\n",
    "    \"\"\"\n",
    "    From https://www.mlflow.org/docs/latest/python_api/mlflow.tracking.html\n",
    "    \"\"\"\n",
    "    for r in runs:\n",
    "        print(\"run_id: {}\".format(r.info.run_id))\n",
    "        print(\"lifecycle_stage: {}\".format(r.info.lifecycle_stage))\n",
    "        print(\"metrics: {}\".format(r.data.metrics))\n",
    "\n",
    "        # Exclude mlflow system tags\n",
    "        tags = {k: v for k, v in r.data.tags.items() if not k.startswith(\"mlflow.\")}\n",
    "        print(\"tags: {}\".format(tags))"
   ]
  },
  {
   "cell_type": "code",
   "execution_count": 4,
   "metadata": {},
   "outputs": [
    {
     "name": "stdout",
     "output_type": "stream",
     "text": [
      "run_id: a7b143508b21408b992792adee0de367\n",
      "lifecycle_stage: active\n",
      "metrics: {'rmse': 6.6284257482044735}\n",
      "tags: {'model': 'random-forest-regressor'}\n",
      "run_id: ec5a85d045af48d6a842d3a603bbeb21\n",
      "lifecycle_stage: active\n",
      "metrics: {'rmse': 6.629728007710133}\n",
      "tags: {'model': 'random-forest-regressor'}\n",
      "run_id: 21f7637a401c41a3b8c06efb58fd9ee2\n",
      "lifecycle_stage: active\n",
      "metrics: {'rmse': 6.629851022038263}\n",
      "tags: {'model': 'random-forest-regressor'}\n"
     ]
    }
   ],
   "source": [
    "HPO_EXPERIMENT_NAME = \"random-forest-hyperopt\"\n",
    "\n",
    "client = MlflowClient()\n",
    "exp = client.get_experiment_by_name(HPO_EXPERIMENT_NAME)\n",
    "runs = client.search_runs(\n",
    "    experiment_ids=exp.experiment_id,\n",
    "    run_view_type=ViewType.ACTIVE_ONLY,\n",
    "    max_results=3,\n",
    "    order_by=[\"metrics.rmse ASC\"]\n",
    ")\n",
    "print_run_info(runs)"
   ]
  },
  {
   "cell_type": "code",
   "execution_count": 5,
   "metadata": {},
   "outputs": [
    {
     "data": {
      "text/plain": [
       "'a7b143508b21408b992792adee0de367'"
      ]
     },
     "execution_count": 5,
     "metadata": {},
     "output_type": "execute_result"
    }
   ],
   "source": [
    "runs[0].info.run_id"
   ]
  },
  {
   "cell_type": "markdown",
   "metadata": {},
   "source": [
    "Modified `run()` inside `register_model.py`:\n",
    "\n",
    "```python\n",
    "def run(data_path, log_top):\n",
    "\n",
    "    client = MlflowClient()\n",
    "\n",
    "    # retrieve the top_n model runs and log the models to MLflow\n",
    "    experiment = client.get_experiment_by_name(HPO_EXPERIMENT_NAME)\n",
    "    runs = client.search_runs(\n",
    "        experiment_ids=experiment.experiment_id,\n",
    "        run_view_type=ViewType.ACTIVE_ONLY,\n",
    "        max_results=log_top,\n",
    "        order_by=[\"metrics.rmse ASC\"]\n",
    "    )\n",
    "    for run in runs:\n",
    "        train_and_log_model(data_path=data_path, params=run.data.params)\n",
    "\n",
    "    # select the model with the lowest test RMSE\n",
    "    experiment = client.get_experiment_by_name(EXPERIMENT_NAME)\n",
    "\n",
    "    ## SEARCH FOR TOP RUN ##\n",
    "    # returns PagedList of Runs\n",
    "    best_run = client.search_runs(\n",
    "        experiment_ids=experiment.experiment_id,\n",
    "        run_view_type=ViewType.ACTIVE_ONLY,\n",
    "        max_results=1,\n",
    "        order_by=[\"metrics.rmse ASC\"]\n",
    "    )\n",
    "\n",
    "    ## register the best model ##\n",
    "    # I think the '/sklearn-model' part is just decided by user\n",
    "    model_uri = f'runs:/{best_run[0].info.run_id}/sklearn-model'\n",
    "    mlflow.register_model(\n",
    "        model_uri,\n",
    "        # this part is definitely user-defined.\n",
    "        'sklearn-random-forest-reg'\n",
    "    )\n",
    "```"
   ]
  }
 ],
 "metadata": {
  "interpreter": {
   "hash": "394f3d1284bcc760c8bc7e6eea62ce7967eec8f82d1c3f540f6ead99cec26d91"
  },
  "kernelspec": {
   "display_name": "Python 3.9.12 ('mlops')",
   "language": "python",
   "name": "python3"
  },
  "language_info": {
   "codemirror_mode": {
    "name": "ipython",
    "version": 3
   },
   "file_extension": ".py",
   "mimetype": "text/x-python",
   "name": "python",
   "nbconvert_exporter": "python",
   "pygments_lexer": "ipython3",
   "version": "3.9.12"
  },
  "orig_nbformat": 4
 },
 "nbformat": 4,
 "nbformat_minor": 2
}
