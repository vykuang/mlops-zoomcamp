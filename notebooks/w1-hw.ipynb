{
 "cells": [
  {
   "cell_type": "code",
   "execution_count": 1,
   "metadata": {},
   "outputs": [],
   "source": [
    "import pandas as pd"
   ]
  },
  {
   "cell_type": "code",
   "execution_count": 2,
   "metadata": {},
   "outputs": [],
   "source": [
    "from sklearn.feature_extraction import DictVectorizer\n",
    "from sklearn.linear_model import LinearRegression\n",
    "from sklearn.linear_model import Lasso\n",
    "from sklearn.linear_model import Ridge\n",
    "\n",
    "from sklearn.metrics import mean_squared_error"
   ]
  },
  {
   "cell_type": "code",
   "execution_count": 6,
   "metadata": {},
   "outputs": [
    {
     "data": {
      "text/html": [
       "<div>\n",
       "<style scoped>\n",
       "    .dataframe tbody tr th:only-of-type {\n",
       "        vertical-align: middle;\n",
       "    }\n",
       "\n",
       "    .dataframe tbody tr th {\n",
       "        vertical-align: top;\n",
       "    }\n",
       "\n",
       "    .dataframe thead th {\n",
       "        text-align: right;\n",
       "    }\n",
       "</style>\n",
       "<table border=\"1\" class=\"dataframe\">\n",
       "  <thead>\n",
       "    <tr style=\"text-align: right;\">\n",
       "      <th></th>\n",
       "      <th>dispatching_base_num</th>\n",
       "      <th>pickup_datetime</th>\n",
       "      <th>dropOff_datetime</th>\n",
       "      <th>PUlocationID</th>\n",
       "      <th>DOlocationID</th>\n",
       "      <th>SR_Flag</th>\n",
       "      <th>Affiliated_base_number</th>\n",
       "    </tr>\n",
       "  </thead>\n",
       "  <tbody>\n",
       "    <tr>\n",
       "      <th>201975</th>\n",
       "      <td>B00149</td>\n",
       "      <td>2021-01-07 03:50:28</td>\n",
       "      <td>2021-01-07 03:54:18</td>\n",
       "      <td>NaN</td>\n",
       "      <td>62.0</td>\n",
       "      <td>None</td>\n",
       "      <td>B00149</td>\n",
       "    </tr>\n",
       "    <tr>\n",
       "      <th>1110626</th>\n",
       "      <td>B02133</td>\n",
       "      <td>2021-01-30 13:29:27</td>\n",
       "      <td>2021-01-30 13:47:53</td>\n",
       "      <td>NaN</td>\n",
       "      <td>NaN</td>\n",
       "      <td>None</td>\n",
       "      <td>B02788</td>\n",
       "    </tr>\n",
       "    <tr>\n",
       "      <th>649149</th>\n",
       "      <td>B02782</td>\n",
       "      <td>2021-01-19 05:35:00</td>\n",
       "      <td>2021-01-19 05:53:00</td>\n",
       "      <td>NaN</td>\n",
       "      <td>NaN</td>\n",
       "      <td>None</td>\n",
       "      <td>B02782</td>\n",
       "    </tr>\n",
       "    <tr>\n",
       "      <th>152383</th>\n",
       "      <td>B00987</td>\n",
       "      <td>2021-01-05 18:05:00</td>\n",
       "      <td>2021-01-05 18:19:00</td>\n",
       "      <td>258.0</td>\n",
       "      <td>63.0</td>\n",
       "      <td>None</td>\n",
       "      <td>B00987</td>\n",
       "    </tr>\n",
       "    <tr>\n",
       "      <th>590371</th>\n",
       "      <td>B00882</td>\n",
       "      <td>2021-01-17 05:02:08</td>\n",
       "      <td>2021-01-17 05:03:57</td>\n",
       "      <td>NaN</td>\n",
       "      <td>166.0</td>\n",
       "      <td>None</td>\n",
       "      <td>B00882</td>\n",
       "    </tr>\n",
       "  </tbody>\n",
       "</table>\n",
       "</div>"
      ],
      "text/plain": [
       "        dispatching_base_num     pickup_datetime    dropOff_datetime  \\\n",
       "201975                B00149 2021-01-07 03:50:28 2021-01-07 03:54:18   \n",
       "1110626               B02133 2021-01-30 13:29:27 2021-01-30 13:47:53   \n",
       "649149                B02782 2021-01-19 05:35:00 2021-01-19 05:53:00   \n",
       "152383                B00987 2021-01-05 18:05:00 2021-01-05 18:19:00   \n",
       "590371                B00882 2021-01-17 05:02:08 2021-01-17 05:03:57   \n",
       "\n",
       "         PUlocationID  DOlocationID SR_Flag Affiliated_base_number  \n",
       "201975            NaN          62.0    None                 B00149  \n",
       "1110626           NaN           NaN    None                 B02788  \n",
       "649149            NaN           NaN    None                 B02782  \n",
       "152383          258.0          63.0    None                 B00987  \n",
       "590371            NaN         166.0    None                 B00882  "
      ]
     },
     "execution_count": 6,
     "metadata": {},
     "output_type": "execute_result"
    }
   ],
   "source": [
    "df = pd.read_parquet('../data/fhv_tripdata_2021-01.parquet')\n",
    "df.sample(5)"
   ]
  },
  {
   "cell_type": "markdown",
   "metadata": {},
   "source": [
    "## Data Dictionary for FHV trip records:\n",
    "\n",
    "Taken from https://www1.nyc.gov/assets/tlc/downloads/pdf/data_dictionary_trip_records_fhv.pdf\n",
    "\n",
    "* Dispatching_base_num: The TLC Base License Number of the base that dispatched the trip\n",
    "* Pickup_datetime: The date and time of the trip pick-up\n",
    "* DropOff_datetime: The date and time of the trip dropoff\n",
    "* PULocationID: TLC Taxi Zone in which the trip began\n",
    "* DOLocationID: TLC Taxi Zone in which the trip ended\n",
    "* SR_Flag: Indicates if the trip was a part of a shared ride chain offered by a\n",
    "High Volume FHV company (e.g. Uber Pool, Lyft Line). For shared\n",
    "trips, the value is 1. For non-shared rides, this field is null.\n",
    "NOTE: For most High Volume FHV companies, only shared rides that\n",
    "were requested AND matched to another shared-ride request over\n",
    "the course of the journey are flagged. However, Lyft (base license\n",
    "numbers B02510 + B02844) also flags rides for which a shared ride\n",
    "was requested but another passenger was not successfully matched\n",
    "to share the trip—therefore, trips records with SR_Flag=1 from those\n",
    "two bases could indicate EITHER a first trip in a shared trip chain OR\n",
    "a trip for which a shared ride was requested but never matched.\n",
    "Users should anticipate an overcount of successfully shared trips\n",
    "completed by Lyft."
   ]
  },
  {
   "cell_type": "markdown",
   "metadata": {},
   "source": [
    "## Q1 - download the data\n"
   ]
  },
  {
   "cell_type": "code",
   "execution_count": 7,
   "metadata": {},
   "outputs": [
    {
     "name": "stdout",
     "output_type": "stream",
     "text": [
      "January has 1154112 records\n"
     ]
    }
   ],
   "source": [
    "num_records_jan = len(df)\n",
    "print(f'January has {num_records_jan} records')"
   ]
  },
  {
   "cell_type": "markdown",
   "metadata": {},
   "source": [
    "## Q2 - computing duration"
   ]
  },
  {
   "cell_type": "code",
   "execution_count": 15,
   "metadata": {},
   "outputs": [
    {
     "name": "stdout",
     "output_type": "stream",
     "text": [
      "Average trip duration in jan: 19.1672240937939\n"
     ]
    }
   ],
   "source": [
    "df['duration'] = df['dropOff_datetime'] - df['pickup_datetime']\n",
    "# the lambda and apply lets us use the .total_seconds() method of the\n",
    "# datetime object\n",
    "df['duration'] = df['duration'].apply(lambda td: td.total_seconds() / 60)\n",
    "\n",
    "jan_duration_avg = df['duration'].mean()\n",
    "print(f'Average trip duration in jan: {jan_duration_avg}')"
   ]
  },
  {
   "cell_type": "code",
   "execution_count": 17,
   "metadata": {},
   "outputs": [
    {
     "name": "stdout",
     "output_type": "stream",
     "text": [
      "dropped outliers: 44286\n"
     ]
    }
   ],
   "source": [
    "# Data Prep - remove and count outliers\n",
    "df['valid_trip'] = (df['duration'] >=1) & (df['duration'] <= 60)\n",
    "\n",
    "num_outliers = len(df['valid_trip']) - df['valid_trip'].sum()\n",
    "print(f'dropped outliers: {num_outliers}')"
   ]
  },
  {
   "cell_type": "markdown",
   "metadata": {},
   "source": [
    "## Q3 - missing values\n",
    " \n",
    "Replace missing pickup/dropoff loc IDs with -1. How much are missing?"
   ]
  },
  {
   "cell_type": "code",
   "execution_count": 18,
   "metadata": {},
   "outputs": [
    {
     "name": "stdout",
     "output_type": "stream",
     "text": [
      "0.8303067639882438\n"
     ]
    }
   ],
   "source": [
    "# fraction of nan in PUlocationID\n",
    "pct_nan = df['PUlocationID'].isna().sum() / len(df['PUlocationID'])\n",
    "print(pct_nan)"
   ]
  },
  {
   "cell_type": "code",
   "execution_count": 19,
   "metadata": {},
   "outputs": [],
   "source": [
    "df['PUlocationID_filled'] = df['PUlocationID'].fillna(value=-1)\n",
    "df['DOlocationID_filled'] = df['DOlocationID'].fillna(value=-1)"
   ]
  },
  {
   "cell_type": "markdown",
   "metadata": {},
   "source": [
    "## Q4 - one-hot encoding\n",
    "\n",
    "* turn df into list of dicts\n",
    "* fit dict vectorizer\n",
    "* extract feature matrix\n",
    "\n",
    "What is the dimensionality of the feature matrix?"
   ]
  },
  {
   "cell_type": "code",
   "execution_count": 24,
   "metadata": {},
   "outputs": [],
   "source": [
    "categorical = ['PUlocationID_filled', 'DOlocationID_filled']\n",
    "df[categorical] = df[categorical].astype(str)\n",
    "df['PU_DO'] = df['PUlocationID_filled'] + '_' + df['DOlocationID_filled']\n",
    "\n",
    "# numeric = ['trip_distance']\n",
    "dv = DictVectorizer()\n",
    "train_dicts = df[categorical].to_dict(orient='records')\n",
    "X_train = dv.fit_transform(train_dicts)\n"
   ]
  },
  {
   "cell_type": "code",
   "execution_count": 25,
   "metadata": {},
   "outputs": [
    {
     "name": "stdout",
     "output_type": "stream",
     "text": [
      "(1154112, 525)\n"
     ]
    }
   ],
   "source": [
    "n_dim = X_train.shape\n",
    "print(n_dim)"
   ]
  },
  {
   "cell_type": "markdown",
   "metadata": {},
   "source": [
    "## Q5 training the model\n",
    "\n",
    "Use linear regression to predict duration and calculate RMSE (root mean squared error)"
   ]
  },
  {
   "cell_type": "code",
   "execution_count": 26,
   "metadata": {},
   "outputs": [],
   "source": [
    "target = 'duration'\n",
    "y_train = df[target].values\n",
    "\n",
    "# default params\n",
    "lr = LinearRegression()\n",
    "lr.fit(X_train, y_train)\n",
    "\n",
    "y_pred = lr.predict(X_train)\n",
    "rmse = mean_squared_error(y_train, y_pred, squared=False)"
   ]
  },
  {
   "cell_type": "code",
   "execution_count": 27,
   "metadata": {},
   "outputs": [
    {
     "name": "stdout",
     "output_type": "stream",
     "text": [
      "398.5442107796931\n"
     ]
    }
   ],
   "source": [
    "print(rmse)"
   ]
  },
  {
   "cell_type": "code",
   "execution_count": 36,
   "metadata": {},
   "outputs": [],
   "source": [
    "def read_dataframe(filename):\n",
    "    if filename.endswith('.csv'):\n",
    "        df = pd.read_csv(filename)\n",
    "\n",
    "        df.lpep_dropoff_datetime = pd.to_datetime(df.lpep_dropoff_datetime)\n",
    "        df.lpep_pickup_datetime = pd.to_datetime(df.lpep_pickup_datetime)\n",
    "    elif filename.endswith('.parquet'):\n",
    "        df = pd.read_parquet(filename)\n",
    "\n",
    "    df['duration'] = df['dropOff_datetime'] - df['pickup_datetime']\n",
    "    # the lambda and apply lets us use the .total_seconds() method of the\n",
    "    # datetime object\n",
    "    df['duration'] = df['duration'].apply(lambda td: td.total_seconds() / 60)\n",
    "\n",
    "    # remove outliers\n",
    "    df = df[(df.duration >= 1) & (df.duration <= 60)]\n",
    "\n",
    "    # handle nans\n",
    "    categorical = ['PUlocationID', 'DOlocationID']\n",
    "    df[categorical] = df[categorical].astype(str)\n",
    "    df['PUlocationID_filled'] = df['PUlocationID'].fillna(value=-1).astype(str)\n",
    "    df['DOlocationID_filled'] = df['DOlocationID'].fillna(value=-1).astype(str)\n",
    "\n",
    "    df['PU_DO'] = df['PUlocationID_filled'] + '_' + df['DOlocationID_filled']\n",
    "    \n",
    "    use_columns = ['PU_DO', 'duration']\n",
    "    df = df[use_columns]\n",
    "    return df"
   ]
  },
  {
   "cell_type": "code",
   "execution_count": 37,
   "metadata": {},
   "outputs": [
    {
     "data": {
      "text/html": [
       "<div>\n",
       "<style scoped>\n",
       "    .dataframe tbody tr th:only-of-type {\n",
       "        vertical-align: middle;\n",
       "    }\n",
       "\n",
       "    .dataframe tbody tr th {\n",
       "        vertical-align: top;\n",
       "    }\n",
       "\n",
       "    .dataframe thead th {\n",
       "        text-align: right;\n",
       "    }\n",
       "</style>\n",
       "<table border=\"1\" class=\"dataframe\">\n",
       "  <thead>\n",
       "    <tr style=\"text-align: right;\">\n",
       "      <th></th>\n",
       "      <th>PU_DO</th>\n",
       "      <th>duration</th>\n",
       "    </tr>\n",
       "  </thead>\n",
       "  <tbody>\n",
       "    <tr>\n",
       "      <th>0</th>\n",
       "      <td>nan_nan</td>\n",
       "      <td>17.000000</td>\n",
       "    </tr>\n",
       "    <tr>\n",
       "      <th>1</th>\n",
       "      <td>nan_nan</td>\n",
       "      <td>17.000000</td>\n",
       "    </tr>\n",
       "    <tr>\n",
       "      <th>3</th>\n",
       "      <td>nan_72.0</td>\n",
       "      <td>8.283333</td>\n",
       "    </tr>\n",
       "    <tr>\n",
       "      <th>4</th>\n",
       "      <td>nan_61.0</td>\n",
       "      <td>15.216667</td>\n",
       "    </tr>\n",
       "    <tr>\n",
       "      <th>5</th>\n",
       "      <td>nan_71.0</td>\n",
       "      <td>9.050000</td>\n",
       "    </tr>\n",
       "  </tbody>\n",
       "</table>\n",
       "</div>"
      ],
      "text/plain": [
       "      PU_DO   duration\n",
       "0   nan_nan  17.000000\n",
       "1   nan_nan  17.000000\n",
       "3  nan_72.0   8.283333\n",
       "4  nan_61.0  15.216667\n",
       "5  nan_71.0   9.050000"
      ]
     },
     "execution_count": 37,
     "metadata": {},
     "output_type": "execute_result"
    }
   ],
   "source": [
    "df_train = read_dataframe('../data/fhv_tripdata_2021-01.parquet')\n",
    "df_val = read_dataframe('../data/fhv_tripdata_2021-02.parquet')\n",
    "\n",
    "df_train.head()"
   ]
  },
  {
   "cell_type": "code",
   "execution_count": 39,
   "metadata": {},
   "outputs": [],
   "source": [
    "feature = ['PU_DO']\n",
    "dv = DictVectorizer()\n",
    "\n",
    "train_dicts = df_train[feature].to_dict(orient='records')\n",
    "X_train = dv.fit_transform(train_dicts)\n",
    "\n",
    "val_dicts = df_val[feature].to_dict(orient='records')\n",
    "X_val = dv.transform(val_dicts)\n",
    "\n",
    "y_train = df_train[target].values\n",
    "y_val = df_val[target].values"
   ]
  },
  {
   "cell_type": "code",
   "execution_count": 40,
   "metadata": {},
   "outputs": [
    {
     "data": {
      "text/plain": [
       "10.596293717089068"
      ]
     },
     "execution_count": 40,
     "metadata": {},
     "output_type": "execute_result"
    }
   ],
   "source": [
    "lr = LinearRegression()\n",
    "lr.fit(X_train, y_train)\n",
    "\n",
    "y_pred = lr.predict(X_val)\n",
    "\n",
    "mean_squared_error(y_val, y_pred, squared=False)"
   ]
  },
  {
   "cell_type": "code",
   "execution_count": null,
   "metadata": {},
   "outputs": [],
   "source": []
  }
 ],
 "metadata": {
  "interpreter": {
   "hash": "2759d39a0c80892509c071ef2701a81133b36493b3db182a1c8eaae81290a314"
  },
  "kernelspec": {
   "display_name": "Python 3.9.12 ('mlops')",
   "language": "python",
   "name": "python3"
  },
  "language_info": {
   "codemirror_mode": {
    "name": "ipython",
    "version": 3
   },
   "file_extension": ".py",
   "mimetype": "text/x-python",
   "name": "python",
   "nbconvert_exporter": "python",
   "pygments_lexer": "ipython3",
   "version": "3.9.12"
  },
  "orig_nbformat": 4
 },
 "nbformat": 4,
 "nbformat_minor": 2
}
